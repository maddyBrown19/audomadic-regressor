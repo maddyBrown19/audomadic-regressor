{
 "cells": [
  {
   "cell_type": "markdown",
   "metadata": {},
   "source": [
    "# Project Info\n",
    "**Dataset:** https://www.kaggle.com/datasets/harbhajansingh21/bike-sharing-dataset/data\n",
    "\n",
    "**Problem type:** Regression\n",
    "\n",
    "**Target variable:** Hourly bike rental count\n",
    "\n",
    "**Why?** We will predict the total number of hourly bike rentals from Capital Bikeshare in Washington D.C. in the years 2011 and 2012 based on relevant features in the dataset. Our regression model will help Capital Bikeshare plan how many bikes they should anticipate renting given various environmental factors that influence the volume of bike rentals."
   ]
  }
 ],
 "metadata": {
  "kernelspec": {
   "display_name": "Python 3",
   "language": "python",
   "name": "python3"
  },
  "language_info": {
   "name": "python",
   "version": "3.9.19"
  }
 },
 "nbformat": 4,
 "nbformat_minor": 2
}
